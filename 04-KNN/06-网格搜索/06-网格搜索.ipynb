{
 "cells": [
  {
   "cell_type": "markdown",
   "metadata": {},
   "source": [
    "# Grid Search"
   ]
  },
  {
   "cell_type": "code",
   "execution_count": 1,
   "metadata": {},
   "outputs": [],
   "source": [
    "import numpy as np\n",
    "from sklearn import datasets"
   ]
  },
  {
   "cell_type": "code",
   "execution_count": 2,
   "metadata": {},
   "outputs": [],
   "source": [
    "from sklearn.neighbors import KNeighborsClassifier\n",
    "from sklearn.model_selection import train_test_split"
   ]
  },
  {
   "cell_type": "code",
   "execution_count": 3,
   "metadata": {},
   "outputs": [],
   "source": [
    "digits = datasets.load_digits()\n",
    "X = digits.data\n",
    "y = digits.target"
   ]
  },
  {
   "cell_type": "code",
   "execution_count": 4,
   "metadata": {},
   "outputs": [],
   "source": [
    "X_train, X_test, y_train, y_test = train_test_split(X, y, test_size=0.2, random_state=666)"
   ]
  },
  {
   "cell_type": "code",
   "execution_count": 5,
   "metadata": {},
   "outputs": [],
   "source": [
    "param_grid = [\n",
    "    {\n",
    "        \"weights\": [\"uniform\"],\n",
    "        \"n_neighbors\": [i for i in range(1, 11)],\n",
    "    },\n",
    "    {\n",
    "        \"weights\": [\"distance\"],\n",
    "        \"n_neighbors\": [i for i in range(1, 11)],\n",
    "        \"p\": [i for i in range(1, 6)],\n",
    "    },\n",
    "]\n"
   ]
  },
  {
   "cell_type": "code",
   "execution_count": 6,
   "metadata": {},
   "outputs": [],
   "source": [
    "knn_clf = KNeighborsClassifier()"
   ]
  },
  {
   "cell_type": "code",
   "execution_count": 7,
   "metadata": {},
   "outputs": [],
   "source": [
    "from sklearn.model_selection import GridSearchCV\n",
    "grid_search = GridSearchCV(knn_clf, param_grid)"
   ]
  },
  {
   "cell_type": "code",
   "execution_count": 8,
   "metadata": {},
   "outputs": [
    {
     "name": "stdout",
     "output_type": "stream",
     "text": [
      "CPU times: user 1min 18s, sys: 3.82 s, total: 1min 22s\n",
      "Wall time: 1min 11s\n"
     ]
    },
    {
     "data": {
      "text/plain": [
       "GridSearchCV(estimator=KNeighborsClassifier(),\n",
       "             param_grid=[{'n_neighbors': [1, 2, 3, 4, 5, 6, 7, 8, 9, 10],\n",
       "                          'weights': ['uniform']},\n",
       "                         {'n_neighbors': [1, 2, 3, 4, 5, 6, 7, 8, 9, 10],\n",
       "                          'p': [1, 2, 3, 4, 5], 'weights': ['distance']}])"
      ]
     },
     "execution_count": 8,
     "metadata": {},
     "output_type": "execute_result"
    }
   ],
   "source": [
    "%%time\n",
    "grid_search.fit(X_train, y_train)"
   ]
  },
  {
   "cell_type": "code",
   "execution_count": 9,
   "metadata": {},
   "outputs": [
    {
     "data": {
      "text/plain": [
       "KNeighborsClassifier(n_neighbors=1)"
      ]
     },
     "execution_count": 9,
     "metadata": {},
     "output_type": "execute_result"
    }
   ],
   "source": [
    "grid_search.best_estimator_"
   ]
  },
  {
   "cell_type": "code",
   "execution_count": 10,
   "metadata": {},
   "outputs": [
    {
     "data": {
      "text/plain": [
       "0.9860820751064653"
      ]
     },
     "execution_count": 10,
     "metadata": {},
     "output_type": "execute_result"
    }
   ],
   "source": [
    "grid_search.best_score_"
   ]
  },
  {
   "cell_type": "code",
   "execution_count": 11,
   "metadata": {},
   "outputs": [
    {
     "data": {
      "text/plain": [
       "{'n_neighbors': 1, 'weights': 'uniform'}"
      ]
     },
     "execution_count": 11,
     "metadata": {},
     "output_type": "execute_result"
    }
   ],
   "source": [
    "grid_search.best_params_"
   ]
  },
  {
   "cell_type": "code",
   "execution_count": 12,
   "metadata": {},
   "outputs": [],
   "source": [
    "knn_clf = grid_search.best_estimator_"
   ]
  },
  {
   "cell_type": "code",
   "execution_count": 13,
   "metadata": {},
   "outputs": [
    {
     "data": {
      "text/plain": [
       "0.9833333333333333"
      ]
     },
     "execution_count": 13,
     "metadata": {},
     "output_type": "execute_result"
    }
   ],
   "source": [
    "knn_clf.score(X_test, y_test)"
   ]
  },
  {
   "cell_type": "code",
   "execution_count": 14,
   "metadata": {},
   "outputs": [],
   "source": [
    "grid_search = GridSearchCV(knn_clf, param_grid, n_jobs=-1, verbose=2) \n",
    "# n_jobs指定核数-1使用最多核， verbose 指定输出信息数量"
   ]
  },
  {
   "cell_type": "code",
   "execution_count": 15,
   "metadata": {},
   "outputs": [
    {
     "name": "stdout",
     "output_type": "stream",
     "text": [
      "Fitting 5 folds for each of 60 candidates, totalling 300 fits\n",
      "[CV] END .....................n_neighbors=1, weights=uniform; total time=   0.0s\n",
      "[CV] END .....................n_neighbors=1, weights=uniform; total time=   0.0s\n",
      "[CV] END .....................n_neighbors=1, weights=uniform; total time=   0.0s\n",
      "[CV] END .....................n_neighbors=1, weights=uniform; total time=   0.0s\n",
      "[CV] END .....................n_neighbors=2, weights=uniform; total time=   0.0s\n",
      "[CV] END .....................n_neighbors=2, weights=uniform; total time=   0.0s\n",
      "[CV] END .....................n_neighbors=1, weights=uniform; total time=   0.0s\n",
      "[CV] END .....................n_neighbors=3, weights=uniform; total time=   0.0s\n",
      "[CV] END .....................n_neighbors=3, weights=uniform; total time=   0.0s\n",
      "[CV] END .....................n_neighbors=2, weights=uniform; total time=   0.0s\n",
      "[CV] END .....................n_neighbors=2, weights=uniform; total time=   0.0s\n",
      "[CV] END .....................n_neighbors=3, weights=uniform; total time=   0.0s\n",
      "[CV] END .....................n_neighbors=4, weights=uniform; total time=   0.0s\n",
      "[CV] END .....................n_neighbors=3, weights=uniform; total time=   0.0s\n",
      "[CV] END .....................n_neighbors=4, weights=uniform; total time=   0.0s\n",
      "[CV] END .....................n_neighbors=3, weights=uniform; total time=   0.0s\n",
      "[CV] END .....................n_neighbors=4, weights=uniform; total time=   0.0s\n",
      "[CV] END .....................n_neighbors=4, weights=uniform; total time=   0.0s\n",
      "[CV] END .....................n_neighbors=2, weights=uniform; total time=   0.0s\n",
      "[CV] END .....................n_neighbors=4, weights=uniform; total time=   0.0s\n",
      "[CV] END .....................n_neighbors=5, weights=uniform; total time=   0.0s\n",
      "[CV] END .....................n_neighbors=5, weights=uniform; total time=   0.0s\n",
      "[CV] END .....................n_neighbors=5, weights=uniform; total time=   0.0s\n",
      "[CV] END .....................n_neighbors=5, weights=uniform; total time=   0.0s\n",
      "[CV] END .....................n_neighbors=5, weights=uniform; total time=   0.0s\n",
      "[CV] END .....................n_neighbors=6, weights=uniform; total time=   0.0s\n",
      "[CV] END .....................n_neighbors=6, weights=uniform; total time=   0.0s\n",
      "[CV] END .....................n_neighbors=6, weights=uniform; total time=   0.0s\n",
      "[CV] END .....................n_neighbors=6, weights=uniform; total time=   0.0s\n",
      "[CV] END .....................n_neighbors=7, weights=uniform; total time=   0.0s\n",
      "[CV] END .....................n_neighbors=6, weights=uniform; total time=   0.0s\n",
      "[CV] END .....................n_neighbors=7, weights=uniform; total time=   0.0s\n",
      "[CV] END .....................n_neighbors=7, weights=uniform; total time=   0.0s\n",
      "[CV] END .....................n_neighbors=7, weights=uniform; total time=   0.0s\n",
      "[CV] END .....................n_neighbors=7, weights=uniform; total time=   0.0s\n",
      "[CV] END .....................n_neighbors=8, weights=uniform; total time=   0.0s\n",
      "[CV] END .....................n_neighbors=8, weights=uniform; total time=   0.0s\n",
      "[CV] END .....................n_neighbors=8, weights=uniform; total time=   0.0s\n",
      "[CV] END .....................n_neighbors=8, weights=uniform; total time=   0.0s\n",
      "[CV] END .....................n_neighbors=9, weights=uniform; total time=   0.0s\n",
      "[CV] END .....................n_neighbors=8, weights=uniform; total time=   0.0s\n",
      "[CV] END .....................n_neighbors=9, weights=uniform; total time=   0.0s\n",
      "[CV] END .....................n_neighbors=9, weights=uniform; total time=   0.0s\n",
      "[CV] END .....................n_neighbors=9, weights=uniform; total time=   0.0s\n",
      "[CV] END .....................n_neighbors=9, weights=uniform; total time=   0.0s\n",
      "[CV] END ....................n_neighbors=10, weights=uniform; total time=   0.0s\n",
      "[CV] END ....................n_neighbors=10, weights=uniform; total time=   0.0s\n",
      "[CV] END ....................n_neighbors=10, weights=uniform; total time=   0.1s\n",
      "[CV] END ...............n_neighbors=1, p=2, weights=distance; total time=   0.0s\n",
      "[CV] END ....................n_neighbors=10, weights=uniform; total time=   0.1s\n",
      "[CV] END ....................n_neighbors=10, weights=uniform; total time=   0.1s\n",
      "[CV] END ...............n_neighbors=1, p=2, weights=distance; total time=   0.0s\n",
      "[CV] END ...............n_neighbors=1, p=1, weights=distance; total time=   0.1s\n",
      "[CV] END ...............n_neighbors=1, p=1, weights=distance; total time=   0.1s\n",
      "[CV] END ...............n_neighbors=1, p=2, weights=distance; total time=   0.0s\n",
      "[CV] END ...............n_neighbors=1, p=2, weights=distance; total time=   0.0s\n",
      "[CV] END ...............n_neighbors=1, p=1, weights=distance; total time=   0.1s\n",
      "[CV] END ...............n_neighbors=1, p=2, weights=distance; total time=   0.0s\n",
      "[CV] END ...............n_neighbors=1, p=1, weights=distance; total time=   0.1s\n",
      "[CV] END ...............n_neighbors=1, p=1, weights=distance; total time=   0.1s\n",
      "[CV] END ...............n_neighbors=1, p=3, weights=distance; total time=   0.9s\n",
      "[CV] END ...............n_neighbors=1, p=5, weights=distance; total time=   0.8s\n",
      "[CV] END ...............n_neighbors=1, p=4, weights=distance; total time=   0.9s\n",
      "[CV] END ...............n_neighbors=1, p=4, weights=distance; total time=   0.9s\n",
      "[CV] END ...............n_neighbors=1, p=3, weights=distance; total time=   0.9s\n",
      "[CV] END ...............n_neighbors=1, p=3, weights=distance; total time=   0.9s\n",
      "[CV] END ...............n_neighbors=1, p=4, weights=distance; total time=   0.9s\n",
      "[CV] END ...............n_neighbors=1, p=4, weights=distance; total time=   0.9s\n",
      "[CV] END ...............n_neighbors=1, p=3, weights=distance; total time=   0.9s\n",
      "[CV] END ...............n_neighbors=1, p=5, weights=distance; total time=   0.9s\n",
      "[CV] END ...............n_neighbors=1, p=4, weights=distance; total time=   0.9s\n",
      "[CV] END ...............n_neighbors=1, p=3, weights=distance; total time=   0.9s\n",
      "[CV] END ...............n_neighbors=2, p=2, weights=distance; total time=   0.0s\n",
      "[CV] END ...............n_neighbors=2, p=2, weights=distance; total time=   0.0s\n",
      "[CV] END ...............n_neighbors=2, p=2, weights=distance; total time=   0.0s\n",
      "[CV] END ...............n_neighbors=2, p=1, weights=distance; total time=   0.0s\n",
      "[CV] END ...............n_neighbors=2, p=2, weights=distance; total time=   0.0s\n",
      "[CV] END ...............n_neighbors=2, p=2, weights=distance; total time=   0.0s\n",
      "[CV] END ...............n_neighbors=2, p=1, weights=distance; total time=   0.0s\n",
      "[CV] END ...............n_neighbors=2, p=1, weights=distance; total time=   0.0s\n",
      "[CV] END ...............n_neighbors=2, p=1, weights=distance; total time=   0.0s\n",
      "[CV] END ...............n_neighbors=3, p=1, weights=distance; total time=   0.1s\n",
      "[CV] END ...............n_neighbors=3, p=1, weights=distance; total time=   0.0s\n",
      "[CV] END ...............n_neighbors=3, p=1, weights=distance; total time=   0.0s\n",
      "[CV] END ...............n_neighbors=3, p=1, weights=distance; total time=   0.0s\n",
      "[CV] END ...............n_neighbors=3, p=2, weights=distance; total time=   0.0s\n",
      "[CV] END ...............n_neighbors=3, p=2, weights=distance; total time=   0.0s\n",
      "[CV] END ...............n_neighbors=3, p=1, weights=distance; total time=   0.1s\n",
      "[CV] END ...............n_neighbors=3, p=2, weights=distance; total time=   0.0s\n",
      "[CV] END ...............n_neighbors=3, p=2, weights=distance; total time=   0.0s\n",
      "[CV] END ...............n_neighbors=3, p=2, weights=distance; total time=   0.0s\n",
      "[CV] END ...............n_neighbors=1, p=5, weights=distance; total time=   1.0s\n",
      "[CV] END ...............n_neighbors=2, p=4, weights=distance; total time=   1.0s\n",
      "[CV] END ...............n_neighbors=1, p=5, weights=distance; total time=   1.0s\n",
      "[CV] END ...............n_neighbors=2, p=4, weights=distance; total time=   1.0s\n",
      "[CV] END ...............n_neighbors=2, p=3, weights=distance; total time=   1.0s\n",
      "[CV] END ...............n_neighbors=2, p=3, weights=distance; total time=   1.0s\n",
      "[CV] END ...............n_neighbors=2, p=4, weights=distance; total time=   1.0s\n",
      "[CV] END ...............n_neighbors=2, p=3, weights=distance; total time=   1.0s\n",
      "[CV] END ...............n_neighbors=2, p=1, weights=distance; total time=   0.0s\n",
      "[CV] END ...............n_neighbors=2, p=5, weights=distance; total time=   1.0s\n",
      "[CV] END ...............n_neighbors=2, p=5, weights=distance; total time=   1.0s\n",
      "[CV] END ...............n_neighbors=3, p=3, weights=distance; total time=   1.0s\n",
      "[CV] END ...............n_neighbors=3, p=3, weights=distance; total time=   0.9s\n",
      "[CV] END ...............n_neighbors=1, p=5, weights=distance; total time=   0.9s\n",
      "[CV] END ...............n_neighbors=2, p=4, weights=distance; total time=   0.9s\n",
      "[CV] END ...............n_neighbors=2, p=3, weights=distance; total time=   0.9s\n",
      "[CV] END ...............n_neighbors=2, p=4, weights=distance; total time=   0.9s\n",
      "[CV] END ...............n_neighbors=2, p=5, weights=distance; total time=   0.9s\n",
      "[CV] END ...............n_neighbors=2, p=3, weights=distance; total time=   0.9s\n",
      "[CV] END ...............n_neighbors=2, p=5, weights=distance; total time=   0.9s\n",
      "[CV] END ...............n_neighbors=2, p=5, weights=distance; total time=   0.9s\n",
      "[CV] END ...............n_neighbors=3, p=4, weights=distance; total time=   0.9s\n",
      "[CV] END ...............n_neighbors=3, p=3, weights=distance; total time=   0.9s\n",
      "[CV] END ...............n_neighbors=4, p=2, weights=distance; total time=   0.0s\n",
      "[CV] END ...............n_neighbors=4, p=1, weights=distance; total time=   0.1s\n",
      "[CV] END ...............n_neighbors=4, p=1, weights=distance; total time=   0.1s\n",
      "[CV] END ...............n_neighbors=4, p=2, weights=distance; total time=   0.0s\n",
      "[CV] END ...............n_neighbors=4, p=2, weights=distance; total time=   0.0s\n",
      "[CV] END ...............n_neighbors=4, p=1, weights=distance; total time=   0.1s\n",
      "[CV] END ...............n_neighbors=4, p=2, weights=distance; total time=   0.0s\n",
      "[CV] END ...............n_neighbors=4, p=1, weights=distance; total time=   0.1s\n",
      "[CV] END ...............n_neighbors=4, p=2, weights=distance; total time=   0.0s\n",
      "[CV] END ...............n_neighbors=3, p=3, weights=distance; total time=   1.0s\n",
      "[CV] END ...............n_neighbors=3, p=3, weights=distance; total time=   1.0s\n",
      "[CV] END ...............n_neighbors=3, p=4, weights=distance; total time=   0.9s\n",
      "[CV] END ...............n_neighbors=3, p=5, weights=distance; total time=   0.9s\n",
      "[CV] END ...............n_neighbors=3, p=5, weights=distance; total time=   1.0s\n",
      "[CV] END ...............n_neighbors=3, p=5, weights=distance; total time=   0.9s\n",
      "[CV] END ...............n_neighbors=3, p=4, weights=distance; total time=   0.9s\n",
      "[CV] END ...............n_neighbors=3, p=4, weights=distance; total time=   0.9s\n",
      "[CV] END ...............n_neighbors=4, p=1, weights=distance; total time=   0.0s\n",
      "[CV] END ...............n_neighbors=4, p=3, weights=distance; total time=   0.9s\n",
      "[CV] END ...............n_neighbors=4, p=3, weights=distance; total time=   0.9s\n",
      "[CV] END ...............n_neighbors=5, p=1, weights=distance; total time=   0.0s\n",
      "[CV] END ...............n_neighbors=4, p=3, weights=distance; total time=   0.9s\n",
      "[CV] END ...............n_neighbors=4, p=4, weights=distance; total time=   0.9s\n",
      "[CV] END ...............n_neighbors=5, p=1, weights=distance; total time=   0.0s\n",
      "[CV] END ...............n_neighbors=5, p=1, weights=distance; total time=   0.1s\n",
      "[CV] END ...............n_neighbors=5, p=1, weights=distance; total time=   0.1s\n",
      "[CV] END ...............n_neighbors=5, p=2, weights=distance; total time=   0.0s\n",
      "[CV] END ...............n_neighbors=5, p=1, weights=distance; total time=   0.0s\n",
      "[CV] END ...............n_neighbors=4, p=4, weights=distance; total time=   0.9s\n",
      "[CV] END ...............n_neighbors=5, p=2, weights=distance; total time=   0.0s\n",
      "[CV] END ...............n_neighbors=5, p=2, weights=distance; total time=   0.0s\n",
      "[CV] END ...............n_neighbors=4, p=4, weights=distance; total time=   0.9s\n",
      "[CV] END ...............n_neighbors=5, p=2, weights=distance; total time=   0.0s\n",
      "[CV] END ...............n_neighbors=5, p=2, weights=distance; total time=   0.0s\n",
      "[CV] END ...............n_neighbors=3, p=4, weights=distance; total time=   1.0s\n",
      "[CV] END ...............n_neighbors=3, p=5, weights=distance; total time=   1.0s\n",
      "[CV] END ...............n_neighbors=3, p=5, weights=distance; total time=   1.0s\n",
      "[CV] END ...............n_neighbors=4, p=5, weights=distance; total time=   1.0s\n",
      "[CV] END ...............n_neighbors=4, p=5, weights=distance; total time=   1.0s\n",
      "[CV] END ...............n_neighbors=4, p=3, weights=distance; total time=   1.0s\n",
      "[CV] END ...............n_neighbors=4, p=4, weights=distance; total time=   1.0s\n",
      "[CV] END ...............n_neighbors=4, p=3, weights=distance; total time=   1.0s\n",
      "[CV] END ...............n_neighbors=4, p=4, weights=distance; total time=   1.0s\n",
      "[CV] END ...............n_neighbors=4, p=5, weights=distance; total time=   1.0s\n",
      "[CV] END ...............n_neighbors=5, p=3, weights=distance; total time=   1.0s\n",
      "[CV] END ...............n_neighbors=5, p=3, weights=distance; total time=   1.0s\n",
      "[CV] END ...............n_neighbors=5, p=3, weights=distance; total time=   0.9s\n",
      "[CV] END ...............n_neighbors=5, p=4, weights=distance; total time=   0.9s\n",
      "[CV] END ...............n_neighbors=5, p=4, weights=distance; total time=   0.9s\n",
      "[CV] END ...............n_neighbors=4, p=5, weights=distance; total time=   0.9s\n",
      "[CV] END ...............n_neighbors=4, p=5, weights=distance; total time=   0.9s\n",
      "[CV] END ...............n_neighbors=6, p=1, weights=distance; total time=   0.1s\n",
      "[CV] END ...............n_neighbors=6, p=1, weights=distance; total time=   0.1s\n",
      "[CV] END ...............n_neighbors=5, p=5, weights=distance; total time=   0.9s\n",
      "[CV] END ...............n_neighbors=5, p=4, weights=distance; total time=   0.9s\n",
      "[CV] END ...............n_neighbors=5, p=5, weights=distance; total time=   0.9s\n",
      "[CV] END ...............n_neighbors=6, p=1, weights=distance; total time=   0.0s\n",
      "[CV] END ...............n_neighbors=6, p=1, weights=distance; total time=   0.0s\n",
      "[CV] END ...............n_neighbors=6, p=2, weights=distance; total time=   0.0s\n",
      "[CV] END ...............n_neighbors=6, p=2, weights=distance; total time=   0.0s\n",
      "[CV] END ...............n_neighbors=6, p=2, weights=distance; total time=   0.0s\n",
      "[CV] END ...............n_neighbors=6, p=1, weights=distance; total time=   0.1s\n",
      "[CV] END ...............n_neighbors=6, p=2, weights=distance; total time=   0.0s\n",
      "[CV] END ...............n_neighbors=6, p=2, weights=distance; total time=   0.0s\n",
      "[CV] END ...............n_neighbors=5, p=3, weights=distance; total time=   0.9s\n",
      "[CV] END ...............n_neighbors=5, p=3, weights=distance; total time=   0.9s\n",
      "[CV] END ...............n_neighbors=5, p=5, weights=distance; total time=   0.9s\n",
      "[CV] END ...............n_neighbors=5, p=5, weights=distance; total time=   0.9s\n",
      "[CV] END ...............n_neighbors=5, p=4, weights=distance; total time=   0.9s\n",
      "[CV] END ...............n_neighbors=5, p=4, weights=distance; total time=   0.9s\n",
      "[CV] END ...............n_neighbors=5, p=5, weights=distance; total time=   0.9s\n",
      "[CV] END ...............n_neighbors=6, p=3, weights=distance; total time=   0.9s\n",
      "[CV] END ...............n_neighbors=6, p=3, weights=distance; total time=   0.9s\n",
      "[CV] END ...............n_neighbors=6, p=3, weights=distance; total time=   0.9s\n",
      "[CV] END ...............n_neighbors=6, p=3, weights=distance; total time=   0.9s\n",
      "[CV] END ...............n_neighbors=6, p=3, weights=distance; total time=   0.9s\n",
      "[CV] END ...............n_neighbors=7, p=1, weights=distance; total time=   0.0s\n",
      "[CV] END ...............n_neighbors=6, p=4, weights=distance; total time=   0.9s\n",
      "[CV] END ...............n_neighbors=7, p=1, weights=distance; total time=   0.0s\n",
      "[CV] END ...............n_neighbors=6, p=4, weights=distance; total time=   0.9s\n",
      "[CV] END ...............n_neighbors=6, p=4, weights=distance; total time=   0.9s\n",
      "[CV] END ...............n_neighbors=6, p=4, weights=distance; total time=   0.9s\n",
      "[CV] END ...............n_neighbors=7, p=2, weights=distance; total time=   0.0s\n",
      "[CV] END ...............n_neighbors=7, p=1, weights=distance; total time=   0.1s\n",
      "[CV] END ...............n_neighbors=7, p=1, weights=distance; total time=   0.1s\n",
      "[CV] END ...............n_neighbors=7, p=2, weights=distance; total time=   0.0s\n",
      "[CV] END ...............n_neighbors=7, p=1, weights=distance; total time=   0.1s\n",
      "[CV] END ...............n_neighbors=7, p=2, weights=distance; total time=   0.0s\n",
      "[CV] END ...............n_neighbors=7, p=2, weights=distance; total time=   0.0s\n",
      "[CV] END ...............n_neighbors=7, p=2, weights=distance; total time=   0.0s\n",
      "[CV] END ...............n_neighbors=6, p=4, weights=distance; total time=   1.0s\n",
      "[CV] END ...............n_neighbors=6, p=5, weights=distance; total time=   1.0s\n",
      "[CV] END ...............n_neighbors=6, p=5, weights=distance; total time=   1.0s\n",
      "[CV] END ...............n_neighbors=6, p=5, weights=distance; total time=   1.0s\n",
      "[CV] END ...............n_neighbors=6, p=5, weights=distance; total time=   1.0s\n",
      "[CV] END ...............n_neighbors=6, p=5, weights=distance; total time=   1.0s\n",
      "[CV] END ...............n_neighbors=7, p=3, weights=distance; total time=   1.0s\n",
      "[CV] END ...............n_neighbors=7, p=3, weights=distance; total time=   1.0s\n",
      "[CV] END ...............n_neighbors=7, p=3, weights=distance; total time=   1.0s\n",
      "[CV] END ...............n_neighbors=7, p=3, weights=distance; total time=   1.0s\n",
      "[CV] END ...............n_neighbors=7, p=3, weights=distance; total time=   1.0s\n",
      "[CV] END ...............n_neighbors=7, p=4, weights=distance; total time=   1.0s\n",
      "[CV] END ...............n_neighbors=8, p=1, weights=distance; total time=   0.0s\n",
      "[CV] END ...............n_neighbors=8, p=1, weights=distance; total time=   0.0s\n",
      "[CV] END ...............n_neighbors=8, p=1, weights=distance; total time=   0.1s\n",
      "[CV] END ...............n_neighbors=8, p=1, weights=distance; total time=   0.0s\n",
      "[CV] END ...............n_neighbors=8, p=1, weights=distance; total time=   0.0s\n",
      "[CV] END ...............n_neighbors=8, p=2, weights=distance; total time=   0.0s\n",
      "[CV] END ...............n_neighbors=8, p=2, weights=distance; total time=   0.0s\n",
      "[CV] END ...............n_neighbors=8, p=2, weights=distance; total time=   0.0s\n",
      "[CV] END ...............n_neighbors=8, p=2, weights=distance; total time=   0.0s\n",
      "[CV] END ...............n_neighbors=8, p=2, weights=distance; total time=   0.0s\n",
      "[CV] END ...............n_neighbors=7, p=4, weights=distance; total time=   1.0s\n",
      "[CV] END ...............n_neighbors=7, p=4, weights=distance; total time=   1.0s\n",
      "[CV] END ...............n_neighbors=7, p=4, weights=distance; total time=   1.0s\n",
      "[CV] END ...............n_neighbors=7, p=5, weights=distance; total time=   0.9s\n",
      "[CV] END ...............n_neighbors=7, p=4, weights=distance; total time=   1.0s\n",
      "[CV] END ...............n_neighbors=7, p=5, weights=distance; total time=   1.0s\n",
      "[CV] END ...............n_neighbors=7, p=5, weights=distance; total time=   0.9s\n",
      "[CV] END ...............n_neighbors=7, p=5, weights=distance; total time=   0.9s\n",
      "[CV] END ...............n_neighbors=7, p=5, weights=distance; total time=   0.9s\n",
      "[CV] END ...............n_neighbors=8, p=3, weights=distance; total time=   0.9s\n",
      "[CV] END ...............n_neighbors=8, p=3, weights=distance; total time=   0.9s\n",
      "[CV] END ...............n_neighbors=8, p=3, weights=distance; total time=   0.9s\n",
      "[CV] END ...............n_neighbors=8, p=3, weights=distance; total time=   0.9s\n",
      "[CV] END ...............n_neighbors=8, p=3, weights=distance; total time=   0.9s\n",
      "[CV] END ...............n_neighbors=9, p=1, weights=distance; total time=   0.0s\n",
      "[CV] END ...............n_neighbors=9, p=1, weights=distance; total time=   0.0s\n",
      "[CV] END ...............n_neighbors=8, p=4, weights=distance; total time=   0.9s\n",
      "[CV] END ...............n_neighbors=9, p=1, weights=distance; total time=   0.0s\n",
      "[CV] END ...............n_neighbors=9, p=1, weights=distance; total time=   0.0s\n",
      "[CV] END ...............n_neighbors=9, p=1, weights=distance; total time=   0.1s\n",
      "[CV] END ...............n_neighbors=9, p=2, weights=distance; total time=   0.0s\n",
      "[CV] END ...............n_neighbors=9, p=2, weights=distance; total time=   0.0s\n",
      "[CV] END ...............n_neighbors=9, p=2, weights=distance; total time=   0.0s\n",
      "[CV] END ...............n_neighbors=9, p=2, weights=distance; total time=   0.0s\n",
      "[CV] END ...............n_neighbors=9, p=2, weights=distance; total time=   0.0s\n",
      "[CV] END ...............n_neighbors=8, p=4, weights=distance; total time=   0.9s\n",
      "[CV] END ...............n_neighbors=8, p=4, weights=distance; total time=   0.9s\n",
      "[CV] END ...............n_neighbors=8, p=4, weights=distance; total time=   0.9s\n",
      "[CV] END ...............n_neighbors=8, p=4, weights=distance; total time=   1.0s\n",
      "[CV] END ...............n_neighbors=8, p=5, weights=distance; total time=   1.0s\n",
      "[CV] END ...............n_neighbors=8, p=5, weights=distance; total time=   1.0s\n",
      "[CV] END ...............n_neighbors=8, p=5, weights=distance; total time=   1.0s\n",
      "[CV] END ...............n_neighbors=8, p=5, weights=distance; total time=   1.0s\n",
      "[CV] END ...............n_neighbors=8, p=5, weights=distance; total time=   1.0s\n",
      "[CV] END ...............n_neighbors=9, p=3, weights=distance; total time=   1.0s\n",
      "[CV] END ...............n_neighbors=9, p=3, weights=distance; total time=   1.0s\n",
      "[CV] END ...............n_neighbors=9, p=3, weights=distance; total time=   1.1s\n",
      "[CV] END ...............n_neighbors=9, p=3, weights=distance; total time=   1.0s\n",
      "[CV] END ...............n_neighbors=9, p=3, weights=distance; total time=   1.1s\n",
      "[CV] END ...............n_neighbors=9, p=4, weights=distance; total time=   1.0s\n",
      "[CV] END ..............n_neighbors=10, p=1, weights=distance; total time=   0.0s\n",
      "[CV] END ..............n_neighbors=10, p=1, weights=distance; total time=   0.0s\n",
      "[CV] END ..............n_neighbors=10, p=1, weights=distance; total time=   0.0s\n",
      "[CV] END ..............n_neighbors=10, p=1, weights=distance; total time=   0.0s\n",
      "[CV] END ..............n_neighbors=10, p=1, weights=distance; total time=   0.0s\n",
      "[CV] END ..............n_neighbors=10, p=2, weights=distance; total time=   0.0s\n",
      "[CV] END ..............n_neighbors=10, p=2, weights=distance; total time=   0.0s\n",
      "[CV] END ..............n_neighbors=10, p=2, weights=distance; total time=   0.0s\n",
      "[CV] END ...............n_neighbors=9, p=4, weights=distance; total time=   1.0s\n",
      "[CV] END ...............n_neighbors=9, p=4, weights=distance; total time=   1.0s\n",
      "[CV] END ..............n_neighbors=10, p=2, weights=distance; total time=   0.0s\n",
      "[CV] END ..............n_neighbors=10, p=2, weights=distance; total time=   0.0s\n",
      "[CV] END ...............n_neighbors=9, p=4, weights=distance; total time=   1.0s\n",
      "[CV] END ...............n_neighbors=9, p=5, weights=distance; total time=   1.0s\n",
      "[CV] END ...............n_neighbors=9, p=4, weights=distance; total time=   1.0s\n",
      "[CV] END ...............n_neighbors=9, p=5, weights=distance; total time=   1.0s\n",
      "[CV] END ...............n_neighbors=9, p=5, weights=distance; total time=   0.9s\n",
      "[CV] END ...............n_neighbors=9, p=5, weights=distance; total time=   0.9s\n",
      "[CV] END ...............n_neighbors=9, p=5, weights=distance; total time=   0.9s\n",
      "[CV] END ..............n_neighbors=10, p=3, weights=distance; total time=   0.9s\n",
      "[CV] END ..............n_neighbors=10, p=3, weights=distance; total time=   0.9s\n",
      "[CV] END ..............n_neighbors=10, p=3, weights=distance; total time=   0.9s\n",
      "[CV] END ..............n_neighbors=10, p=3, weights=distance; total time=   0.8s\n",
      "[CV] END ..............n_neighbors=10, p=3, weights=distance; total time=   0.9s\n",
      "[CV] END ..............n_neighbors=10, p=4, weights=distance; total time=   0.9s\n",
      "[CV] END ..............n_neighbors=10, p=4, weights=distance; total time=   0.8s\n",
      "[CV] END ..............n_neighbors=10, p=4, weights=distance; total time=   0.8s\n",
      "[CV] END ..............n_neighbors=10, p=4, weights=distance; total time=   0.9s\n",
      "[CV] END ..............n_neighbors=10, p=4, weights=distance; total time=   0.8s\n",
      "[CV] END ..............n_neighbors=10, p=5, weights=distance; total time=   0.7s\n",
      "[CV] END ..............n_neighbors=10, p=5, weights=distance; total time=   0.7s\n",
      "[CV] END ..............n_neighbors=10, p=5, weights=distance; total time=   0.6s\n",
      "[CV] END ..............n_neighbors=10, p=5, weights=distance; total time=   0.7s\n",
      "[CV] END ..............n_neighbors=10, p=5, weights=distance; total time=   0.7s\n",
      "CPU times: user 706 ms, sys: 311 ms, total: 1.02 s\n",
      "Wall time: 14.4 s\n"
     ]
    },
    {
     "data": {
      "text/plain": [
       "GridSearchCV(estimator=KNeighborsClassifier(n_neighbors=1), n_jobs=-1,\n",
       "             param_grid=[{'n_neighbors': [1, 2, 3, 4, 5, 6, 7, 8, 9, 10],\n",
       "                          'weights': ['uniform']},\n",
       "                         {'n_neighbors': [1, 2, 3, 4, 5, 6, 7, 8, 9, 10],\n",
       "                          'p': [1, 2, 3, 4, 5], 'weights': ['distance']}],\n",
       "             verbose=2)"
      ]
     },
     "execution_count": 15,
     "metadata": {},
     "output_type": "execute_result"
    }
   ],
   "source": [
    "%%time\n",
    "grid_search.fit(X_train, y_train)"
   ]
  },
  {
   "cell_type": "code",
   "execution_count": null,
   "metadata": {},
   "outputs": [],
   "source": []
  }
 ],
 "metadata": {
  "interpreter": {
   "hash": "aee8b7b246df8f9039afb4144a1f6fd8d2ca17a180786b69acc140d282b71a49"
  },
  "kernelspec": {
   "display_name": "Python 3.10.1 64-bit",
   "language": "python",
   "name": "python3"
  },
  "language_info": {
   "name": "python",
   "version": "3.10.1"
  },
  "orig_nbformat": 4
 },
 "nbformat": 4,
 "nbformat_minor": 2
}
