{
 "cells": [
  {
   "cell_type": "markdown",
   "metadata": {},
   "source": [
    "# 测试我们的算法"
   ]
  },
  {
   "cell_type": "code",
   "execution_count": 1,
   "metadata": {},
   "outputs": [],
   "source": [
    "import numpy as np\n",
    "import matplotlib.pyplot as plt\n",
    "from sklearn import datasets"
   ]
  },
  {
   "cell_type": "code",
   "execution_count": 2,
   "metadata": {},
   "outputs": [],
   "source": [
    "iris = datasets.load_iris()"
   ]
  },
  {
   "cell_type": "code",
   "execution_count": 3,
   "metadata": {},
   "outputs": [],
   "source": [
    "X = iris.data\n",
    "y = iris.target"
   ]
  },
  {
   "cell_type": "code",
   "execution_count": 4,
   "metadata": {},
   "outputs": [
    {
     "data": {
      "text/plain": [
       "(150, 4)"
      ]
     },
     "execution_count": 4,
     "metadata": {},
     "output_type": "execute_result"
    }
   ],
   "source": [
    "X.shape"
   ]
  },
  {
   "cell_type": "code",
   "execution_count": 5,
   "metadata": {},
   "outputs": [
    {
     "data": {
      "text/plain": [
       "(150,)"
      ]
     },
     "execution_count": 5,
     "metadata": {},
     "output_type": "execute_result"
    }
   ],
   "source": [
    "y.shape"
   ]
  },
  {
   "cell_type": "code",
   "execution_count": 6,
   "metadata": {},
   "outputs": [
    {
     "data": {
      "text/plain": [
       "array([0, 0, 0, 0, 0, 0, 0, 0, 0, 0, 0, 0, 0, 0, 0, 0, 0, 0, 0, 0, 0, 0,\n",
       "       0, 0, 0, 0, 0, 0, 0, 0, 0, 0, 0, 0, 0, 0, 0, 0, 0, 0, 0, 0, 0, 0,\n",
       "       0, 0, 0, 0, 0, 0, 1, 1, 1, 1, 1, 1, 1, 1, 1, 1, 1, 1, 1, 1, 1, 1,\n",
       "       1, 1, 1, 1, 1, 1, 1, 1, 1, 1, 1, 1, 1, 1, 1, 1, 1, 1, 1, 1, 1, 1,\n",
       "       1, 1, 1, 1, 1, 1, 1, 1, 1, 1, 1, 1, 2, 2, 2, 2, 2, 2, 2, 2, 2, 2,\n",
       "       2, 2, 2, 2, 2, 2, 2, 2, 2, 2, 2, 2, 2, 2, 2, 2, 2, 2, 2, 2, 2, 2,\n",
       "       2, 2, 2, 2, 2, 2, 2, 2, 2, 2, 2, 2, 2, 2, 2, 2, 2, 2])"
      ]
     },
     "execution_count": 6,
     "metadata": {},
     "output_type": "execute_result"
    }
   ],
   "source": [
    "y"
   ]
  },
  {
   "cell_type": "code",
   "execution_count": 7,
   "metadata": {},
   "outputs": [
    {
     "data": {
      "text/plain": [
       "array([124,  70,  63, 138,  40,  45,   1, 109,  74, 118,  57,  14,   8,\n",
       "        73, 117,  32,   0,  36, 110, 129,  95, 114,  54,  83,  92,  75,\n",
       "       134,  47,  21, 102,  82,  93,  98,  26,  42,  52,  78,  46, 148,\n",
       "       128,  79,  56,  29, 137,  97,   5, 106,  80,  87,  49,  64,  89,\n",
       "       125,  37,   2,  99,  35,  39, 120,  18,  58, 130,   9,  96,  27,\n",
       "       103, 115, 105, 131,  60,  86,  68, 141,  11,  13,  22,  30,  17,\n",
       "        55, 123, 104,  50, 144,  41, 136,  94,  84,  15,  38,  16, 145,\n",
       "       135, 149,  65,  24,  25,  43, 143,  12, 146, 100,  61,  69,   6,\n",
       "       112,  67,  20,  72, 107, 101,   7, 127,  88,  51,   4,  34, 111,\n",
       "       119,  62, 116,  10,  59,  23, 133,  28,  81, 121,  66, 122, 132,\n",
       "        91,  53, 139,  76, 142,  77, 147, 113,  33, 126,  31,  90,  71,\n",
       "       140,  85,  44,  48,  19,   3, 108])"
      ]
     },
     "execution_count": 7,
     "metadata": {},
     "output_type": "execute_result"
    }
   ],
   "source": [
    "shuffle_indexs = np.random.permutation(len(X))\n",
    "shuffle_indexs"
   ]
  },
  {
   "cell_type": "code",
   "execution_count": 8,
   "metadata": {},
   "outputs": [
    {
     "data": {
      "text/plain": [
       "30"
      ]
     },
     "execution_count": 8,
     "metadata": {},
     "output_type": "execute_result"
    }
   ],
   "source": [
    "test_ratio = 0.2\n",
    "test_size = int(len(X)*test_ratio)\n",
    "test_size"
   ]
  },
  {
   "cell_type": "code",
   "execution_count": 9,
   "metadata": {},
   "outputs": [
    {
     "data": {
      "text/plain": [
       "array([124,  70,  63, 138,  40,  45,   1, 109,  74, 118,  57,  14,   8,\n",
       "        73, 117,  32,   0,  36, 110, 129,  95, 114,  54,  83,  92,  75,\n",
       "       134,  47,  21, 102])"
      ]
     },
     "execution_count": 9,
     "metadata": {},
     "output_type": "execute_result"
    }
   ],
   "source": [
    "test_indexes = shuffle_indexs[:test_size]\n",
    "test_indexes"
   ]
  },
  {
   "cell_type": "code",
   "execution_count": 10,
   "metadata": {},
   "outputs": [
    {
     "data": {
      "text/plain": [
       "array([ 82,  93,  98,  26,  42,  52,  78,  46, 148, 128,  79,  56,  29,\n",
       "       137,  97,   5, 106,  80,  87,  49,  64,  89, 125,  37,   2,  99,\n",
       "        35,  39, 120,  18,  58, 130,   9,  96,  27, 103, 115, 105, 131,\n",
       "        60,  86,  68, 141,  11,  13,  22,  30,  17,  55, 123, 104,  50,\n",
       "       144,  41, 136,  94,  84,  15,  38,  16, 145, 135, 149,  65,  24,\n",
       "        25,  43, 143,  12, 146, 100,  61,  69,   6, 112,  67,  20,  72,\n",
       "       107, 101,   7, 127,  88,  51,   4,  34, 111, 119,  62, 116,  10,\n",
       "        59,  23, 133,  28,  81, 121,  66, 122, 132,  91,  53, 139,  76,\n",
       "       142,  77, 147, 113,  33, 126,  31,  90,  71, 140,  85,  44,  48,\n",
       "        19,   3, 108])"
      ]
     },
     "execution_count": 10,
     "metadata": {},
     "output_type": "execute_result"
    }
   ],
   "source": [
    "train_indexes = shuffle_indexs[test_size:]\n",
    "train_indexes"
   ]
  },
  {
   "cell_type": "code",
   "execution_count": 11,
   "metadata": {},
   "outputs": [
    {
     "data": {
      "text/plain": [
       "array([[5.8, 2.7, 3.9, 1.2],\n",
       "       [5. , 2.3, 3.3, 1. ],\n",
       "       [5.1, 2.5, 3. , 1.1],\n",
       "       [5. , 3.4, 1.6, 0.4],\n",
       "       [4.4, 3.2, 1.3, 0.2],\n",
       "       [6.9, 3.1, 4.9, 1.5],\n",
       "       [6. , 2.9, 4.5, 1.5],\n",
       "       [5.1, 3.8, 1.6, 0.2],\n",
       "       [6.2, 3.4, 5.4, 2.3],\n",
       "       [6.4, 2.8, 5.6, 2.1],\n",
       "       [5.7, 2.6, 3.5, 1. ],\n",
       "       [6.3, 3.3, 4.7, 1.6],\n",
       "       [4.7, 3.2, 1.6, 0.2],\n",
       "       [6.4, 3.1, 5.5, 1.8],\n",
       "       [6.2, 2.9, 4.3, 1.3],\n",
       "       [5.4, 3.9, 1.7, 0.4],\n",
       "       [4.9, 2.5, 4.5, 1.7],\n",
       "       [5.5, 2.4, 3.8, 1.1],\n",
       "       [6.3, 2.3, 4.4, 1.3],\n",
       "       [5. , 3.3, 1.4, 0.2],\n",
       "       [5.6, 2.9, 3.6, 1.3],\n",
       "       [5.5, 2.5, 4. , 1.3],\n",
       "       [7.2, 3.2, 6. , 1.8],\n",
       "       [4.9, 3.6, 1.4, 0.1],\n",
       "       [4.7, 3.2, 1.3, 0.2],\n",
       "       [5.7, 2.8, 4.1, 1.3],\n",
       "       [5. , 3.2, 1.2, 0.2],\n",
       "       [5.1, 3.4, 1.5, 0.2],\n",
       "       [6.9, 3.2, 5.7, 2.3],\n",
       "       [5.7, 3.8, 1.7, 0.3],\n",
       "       [6.6, 2.9, 4.6, 1.3],\n",
       "       [7.4, 2.8, 6.1, 1.9],\n",
       "       [4.9, 3.1, 1.5, 0.1],\n",
       "       [5.7, 2.9, 4.2, 1.3],\n",
       "       [5.2, 3.5, 1.5, 0.2],\n",
       "       [6.3, 2.9, 5.6, 1.8],\n",
       "       [6.4, 3.2, 5.3, 2.3],\n",
       "       [7.6, 3. , 6.6, 2.1],\n",
       "       [7.9, 3.8, 6.4, 2. ],\n",
       "       [5. , 2. , 3.5, 1. ],\n",
       "       [6.7, 3.1, 4.7, 1.5],\n",
       "       [6.2, 2.2, 4.5, 1.5],\n",
       "       [6.9, 3.1, 5.1, 2.3],\n",
       "       [4.8, 3.4, 1.6, 0.2],\n",
       "       [4.3, 3. , 1.1, 0.1],\n",
       "       [4.6, 3.6, 1. , 0.2],\n",
       "       [4.8, 3.1, 1.6, 0.2],\n",
       "       [5.1, 3.5, 1.4, 0.3],\n",
       "       [5.7, 2.8, 4.5, 1.3],\n",
       "       [6.3, 2.7, 4.9, 1.8],\n",
       "       [6.5, 3. , 5.8, 2.2],\n",
       "       [7. , 3.2, 4.7, 1.4],\n",
       "       [6.7, 3.3, 5.7, 2.5],\n",
       "       [4.5, 2.3, 1.3, 0.3],\n",
       "       [6.3, 3.4, 5.6, 2.4],\n",
       "       [5.6, 2.7, 4.2, 1.3],\n",
       "       [5.4, 3. , 4.5, 1.5],\n",
       "       [5.7, 4.4, 1.5, 0.4],\n",
       "       [4.4, 3. , 1.3, 0.2],\n",
       "       [5.4, 3.9, 1.3, 0.4],\n",
       "       [6.7, 3. , 5.2, 2.3],\n",
       "       [7.7, 3. , 6.1, 2.3],\n",
       "       [5.9, 3. , 5.1, 1.8],\n",
       "       [6.7, 3.1, 4.4, 1.4],\n",
       "       [4.8, 3.4, 1.9, 0.2],\n",
       "       [5. , 3. , 1.6, 0.2],\n",
       "       [5. , 3.5, 1.6, 0.6],\n",
       "       [6.8, 3.2, 5.9, 2.3],\n",
       "       [4.8, 3. , 1.4, 0.1],\n",
       "       [6.3, 2.5, 5. , 1.9],\n",
       "       [6.3, 3.3, 6. , 2.5],\n",
       "       [5.9, 3. , 4.2, 1.5],\n",
       "       [5.6, 2.5, 3.9, 1.1],\n",
       "       [4.6, 3.4, 1.4, 0.3],\n",
       "       [6.8, 3. , 5.5, 2.1],\n",
       "       [5.8, 2.7, 4.1, 1. ],\n",
       "       [5.4, 3.4, 1.7, 0.2],\n",
       "       [6.3, 2.5, 4.9, 1.5],\n",
       "       [7.3, 2.9, 6.3, 1.8],\n",
       "       [5.8, 2.7, 5.1, 1.9],\n",
       "       [5. , 3.4, 1.5, 0.2],\n",
       "       [6.1, 3. , 4.9, 1.8],\n",
       "       [5.6, 3. , 4.1, 1.3],\n",
       "       [6.4, 3.2, 4.5, 1.5],\n",
       "       [5. , 3.6, 1.4, 0.2],\n",
       "       [4.9, 3.1, 1.5, 0.2],\n",
       "       [6.4, 2.7, 5.3, 1.9],\n",
       "       [6. , 2.2, 5. , 1.5],\n",
       "       [6. , 2.2, 4. , 1. ],\n",
       "       [6.5, 3. , 5.5, 1.8],\n",
       "       [5.4, 3.7, 1.5, 0.2],\n",
       "       [5.2, 2.7, 3.9, 1.4],\n",
       "       [5.1, 3.3, 1.7, 0.5],\n",
       "       [6.3, 2.8, 5.1, 1.5],\n",
       "       [5.2, 3.4, 1.4, 0.2],\n",
       "       [5.5, 2.4, 3.7, 1. ],\n",
       "       [5.6, 2.8, 4.9, 2. ],\n",
       "       [5.6, 3. , 4.5, 1.5],\n",
       "       [7.7, 2.8, 6.7, 2. ],\n",
       "       [6.4, 2.8, 5.6, 2.2],\n",
       "       [6.1, 3. , 4.6, 1.4],\n",
       "       [5.5, 2.3, 4. , 1.3],\n",
       "       [6.9, 3.1, 5.4, 2.1],\n",
       "       [6.8, 2.8, 4.8, 1.4],\n",
       "       [5.8, 2.7, 5.1, 1.9],\n",
       "       [6.7, 3. , 5. , 1.7],\n",
       "       [6.5, 3. , 5.2, 2. ],\n",
       "       [5.7, 2.5, 5. , 2. ],\n",
       "       [5.5, 4.2, 1.4, 0.2],\n",
       "       [6.2, 2.8, 4.8, 1.8],\n",
       "       [5.4, 3.4, 1.5, 0.4],\n",
       "       [5.5, 2.6, 4.4, 1.2],\n",
       "       [6.1, 2.8, 4. , 1.3],\n",
       "       [6.7, 3.1, 5.6, 2.4],\n",
       "       [6. , 3.4, 4.5, 1.6],\n",
       "       [5.1, 3.8, 1.9, 0.4],\n",
       "       [5.3, 3.7, 1.5, 0.2],\n",
       "       [5.1, 3.8, 1.5, 0.3],\n",
       "       [4.6, 3.1, 1.5, 0.2],\n",
       "       [6.7, 2.5, 5.8, 1.8]])"
      ]
     },
     "execution_count": 11,
     "metadata": {},
     "output_type": "execute_result"
    }
   ],
   "source": [
    "X_train = X[train_indexes]\n",
    "X_train"
   ]
  },
  {
   "cell_type": "code",
   "execution_count": 12,
   "metadata": {},
   "outputs": [
    {
     "data": {
      "text/plain": [
       "array([1, 1, 1, 0, 0, 1, 1, 0, 2, 2, 1, 1, 0, 2, 1, 0, 2, 1, 1, 0, 1, 1,\n",
       "       2, 0, 0, 1, 0, 0, 2, 0, 1, 2, 0, 1, 0, 2, 2, 2, 2, 1, 1, 1, 2, 0,\n",
       "       0, 0, 0, 0, 1, 2, 2, 1, 2, 0, 2, 1, 1, 0, 0, 0, 2, 2, 2, 1, 0, 0,\n",
       "       0, 2, 0, 2, 2, 1, 1, 0, 2, 1, 0, 1, 2, 2, 0, 2, 1, 1, 0, 0, 2, 2,\n",
       "       1, 2, 0, 1, 0, 2, 0, 1, 2, 1, 2, 2, 1, 1, 2, 1, 2, 1, 2, 2, 0, 2,\n",
       "       0, 1, 1, 2, 1, 0, 0, 0, 0, 2])"
      ]
     },
     "execution_count": 12,
     "metadata": {},
     "output_type": "execute_result"
    }
   ],
   "source": [
    "y_train = y[train_indexes]\n",
    "y_train"
   ]
  },
  {
   "cell_type": "code",
   "execution_count": 13,
   "metadata": {},
   "outputs": [],
   "source": [
    "X_test = X[test_indexes]\n",
    "y_test = y[test_indexes]"
   ]
  },
  {
   "cell_type": "code",
   "execution_count": 14,
   "metadata": {},
   "outputs": [
    {
     "name": "stdout",
     "output_type": "stream",
     "text": [
      "(120, 4)\n",
      "(120,)\n"
     ]
    }
   ],
   "source": [
    "print(X_train.shape)\n",
    "print(y_train.shape)"
   ]
  },
  {
   "cell_type": "markdown",
   "metadata": {},
   "source": [
    "### 测试自己写的方法"
   ]
  },
  {
   "cell_type": "code",
   "execution_count": 15,
   "metadata": {},
   "outputs": [],
   "source": [
    "from playML.model_selection import train_test_split\n",
    "X_train, X_test, y_train, y_test = train_test_split(X, y)"
   ]
  },
  {
   "cell_type": "code",
   "execution_count": 16,
   "metadata": {},
   "outputs": [
    {
     "name": "stdout",
     "output_type": "stream",
     "text": [
      "(120, 4)\n",
      "(120,)\n"
     ]
    }
   ],
   "source": [
    "print(X_train.shape)\n",
    "print(y_train.shape)"
   ]
  },
  {
   "cell_type": "code",
   "execution_count": 17,
   "metadata": {},
   "outputs": [
    {
     "name": "stdout",
     "output_type": "stream",
     "text": [
      "(30, 4)\n",
      "(30,)\n"
     ]
    }
   ],
   "source": [
    "print(X_test.shape)\n",
    "print(y_test.shape)"
   ]
  },
  {
   "cell_type": "code",
   "execution_count": 18,
   "metadata": {},
   "outputs": [],
   "source": [
    "from playML.kNN import KNNClassifier"
   ]
  },
  {
   "cell_type": "code",
   "execution_count": 19,
   "metadata": {},
   "outputs": [
    {
     "data": {
      "text/plain": [
       "KNN(k=3)"
      ]
     },
     "execution_count": 19,
     "metadata": {},
     "output_type": "execute_result"
    }
   ],
   "source": [
    "my_knn_clf = KNNClassifier(k=3)\n",
    "my_knn_clf"
   ]
  },
  {
   "cell_type": "code",
   "execution_count": 20,
   "metadata": {},
   "outputs": [
    {
     "data": {
      "text/plain": [
       "KNN(k=3)"
      ]
     },
     "execution_count": 20,
     "metadata": {},
     "output_type": "execute_result"
    }
   ],
   "source": [
    "my_knn_clf.fit(X_train, y_train)\n",
    "my_knn_clf"
   ]
  },
  {
   "cell_type": "code",
   "execution_count": 21,
   "metadata": {},
   "outputs": [
    {
     "data": {
      "text/plain": [
       "array([1, 2, 1, 0, 1, 2, 2, 2, 1, 2, 1, 1, 2, 1, 1, 0, 2, 2, 2, 0, 1, 1,\n",
       "       1, 1, 0, 2, 1, 0, 0, 0])"
      ]
     },
     "execution_count": 21,
     "metadata": {},
     "output_type": "execute_result"
    }
   ],
   "source": [
    "y_predict = my_knn_clf.predict(X_test)\n",
    "y_predict"
   ]
  },
  {
   "cell_type": "code",
   "execution_count": 22,
   "metadata": {},
   "outputs": [
    {
     "data": {
      "text/plain": [
       "array([2, 2, 1, 0, 2, 2, 2, 2, 1, 2, 1, 1, 2, 1, 1, 0, 2, 2, 2, 0, 1, 2,\n",
       "       1, 1, 0, 2, 1, 0, 0, 0])"
      ]
     },
     "execution_count": 22,
     "metadata": {},
     "output_type": "execute_result"
    }
   ],
   "source": [
    "y_test"
   ]
  },
  {
   "cell_type": "code",
   "execution_count": 23,
   "metadata": {},
   "outputs": [
    {
     "data": {
      "text/plain": [
       "0.9"
      ]
     },
     "execution_count": 23,
     "metadata": {},
     "output_type": "execute_result"
    }
   ],
   "source": [
    "sum(y_predict == y_test)/len(y_test)  # 预测准确率"
   ]
  },
  {
   "cell_type": "code",
   "execution_count": 24,
   "metadata": {},
   "outputs": [],
   "source": [
    "from sklearn.model_selection import train_test_split"
   ]
  },
  {
   "cell_type": "code",
   "execution_count": 25,
   "metadata": {},
   "outputs": [],
   "source": [
    "X_train, X_test, y_train, y_test = train_test_split(X, y, test_size=0.2, random_state=666)"
   ]
  },
  {
   "cell_type": "code",
   "execution_count": 26,
   "metadata": {},
   "outputs": [
    {
     "name": "stdout",
     "output_type": "stream",
     "text": [
      "(120, 4)\n",
      "(120,)\n",
      "(30, 4)\n",
      "(30,)\n"
     ]
    }
   ],
   "source": [
    "print(X_train.shape)\n",
    "print(y_train.shape)\n",
    "print(X_test.shape)\n",
    "print(y_test.shape)"
   ]
  },
  {
   "cell_type": "markdown",
   "metadata": {},
   "source": [
    "### 调用sklearn中的算法"
   ]
  },
  {
   "cell_type": "code",
   "execution_count": 27,
   "metadata": {},
   "outputs": [],
   "source": [
    "from sklearn.neighbors import KNeighborsClassifier"
   ]
  },
  {
   "cell_type": "code",
   "execution_count": 28,
   "metadata": {},
   "outputs": [],
   "source": [
    "my_knn_clf = KNeighborsClassifier(n_neighbors=3)\n",
    "my_knn_clf.fit(X_train, y_train)\n",
    "y_predict = my_knn_clf.predict(X_test)"
   ]
  },
  {
   "cell_type": "code",
   "execution_count": 29,
   "metadata": {},
   "outputs": [
    {
     "data": {
      "text/plain": [
       "1.0"
      ]
     },
     "execution_count": 29,
     "metadata": {},
     "output_type": "execute_result"
    }
   ],
   "source": [
    "sum(y_predict == y_test)/len(y_test)"
   ]
  },
  {
   "cell_type": "code",
   "execution_count": 30,
   "metadata": {},
   "outputs": [
    {
     "data": {
      "text/plain": [
       "array([0, 0, 1, 2, 1, 1, 2, 2, 0, 1, 2, 2, 1, 1, 0, 0, 0, 0, 1, 0, 0, 2,\n",
       "       1, 1, 1, 0, 0, 2, 2, 1, 2, 0, 1, 1, 0, 1, 0, 0, 2, 2, 2, 1, 1, 2,\n",
       "       2, 0, 1, 2, 0, 0, 2, 0, 2, 2, 0, 1, 0, 0, 0, 1, 1, 1, 0, 0, 2, 1,\n",
       "       2, 2, 2, 2, 0, 2, 2, 1, 1, 2, 2, 1, 2, 1, 0, 2, 0, 1, 1, 2, 0, 2,\n",
       "       2, 0, 2, 2, 1, 0, 0, 2, 0, 0, 0, 1, 0, 2, 1, 2, 0, 0, 0, 2, 2, 1,\n",
       "       0, 0, 1, 0, 1, 1, 1, 1, 1, 2])"
      ]
     },
     "execution_count": 30,
     "metadata": {},
     "output_type": "execute_result"
    }
   ],
   "source": [
    "y_train"
   ]
  },
  {
   "cell_type": "code",
   "execution_count": null,
   "metadata": {},
   "outputs": [],
   "source": []
  }
 ],
 "metadata": {
  "interpreter": {
   "hash": "aee8b7b246df8f9039afb4144a1f6fd8d2ca17a180786b69acc140d282b71a49"
  },
  "kernelspec": {
   "display_name": "Python 3.10.1 64-bit",
   "language": "python",
   "name": "python3"
  },
  "language_info": {
   "codemirror_mode": {
    "name": "ipython",
    "version": 3
   },
   "file_extension": ".py",
   "mimetype": "text/x-python",
   "name": "python",
   "nbconvert_exporter": "python",
   "pygments_lexer": "ipython3",
   "version": "3.10.1"
  },
  "orig_nbformat": 4
 },
 "nbformat": 4,
 "nbformat_minor": 2
}
