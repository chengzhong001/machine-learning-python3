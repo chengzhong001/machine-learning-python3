{
 "cells": [
  {
   "cell_type": "markdown",
   "metadata": {},
   "source": [
    "# 数据归一化处理"
   ]
  },
  {
   "cell_type": "code",
   "execution_count": 33,
   "metadata": {},
   "outputs": [],
   "source": [
    "import numpy as np\n",
    "import matplotlib.pyplot as plt"
   ]
  },
  {
   "cell_type": "markdown",
   "metadata": {},
   "source": [
    "### 最值归一化"
   ]
  },
  {
   "cell_type": "code",
   "execution_count": 34,
   "metadata": {},
   "outputs": [
    {
     "data": {
      "text/plain": [
       "array([52, 13, 17, 70, 73, 51, 55,  7, 15, 82, 62, 28, 81, 37, 99, 84, 90,\n",
       "       97, 49,  9, 34, 17, 21, 62, 64, 45, 87, 44, 84, 69, 46, 76, 13, 62,\n",
       "        2, 88, 36, 19, 78, 47, 32, 56,  9, 90, 15,  2,  5, 37, 49, 33,  5,\n",
       "       41, 39, 32, 59, 14, 96, 65, 72, 92, 51, 92, 43,  8, 27, 21, 86, 81,\n",
       "       74, 90, 27, 45,  3, 23, 80, 75, 13, 27, 81, 87, 46, 77, 35, 30, 13,\n",
       "        9, 73, 27, 86, 74, 85, 20, 86, 76, 73, 44, 15,  2, 90, 40])"
      ]
     },
     "execution_count": 34,
     "metadata": {},
     "output_type": "execute_result"
    }
   ],
   "source": [
    "x = np.random.randint(0, 100, size=100)\n",
    "x"
   ]
  },
  {
   "cell_type": "markdown",
   "metadata": {},
   "source": []
  },
  {
   "cell_type": "code",
   "execution_count": 35,
   "metadata": {},
   "outputs": [
    {
     "data": {
      "text/plain": [
       "array([0.51546392, 0.11340206, 0.15463918, 0.70103093, 0.73195876,\n",
       "       0.50515464, 0.54639175, 0.05154639, 0.13402062, 0.82474227,\n",
       "       0.6185567 , 0.26804124, 0.81443299, 0.36082474, 1.        ,\n",
       "       0.84536082, 0.90721649, 0.97938144, 0.48453608, 0.07216495,\n",
       "       0.32989691, 0.15463918, 0.19587629, 0.6185567 , 0.63917526,\n",
       "       0.44329897, 0.87628866, 0.43298969, 0.84536082, 0.69072165,\n",
       "       0.45360825, 0.7628866 , 0.11340206, 0.6185567 , 0.        ,\n",
       "       0.88659794, 0.35051546, 0.17525773, 0.78350515, 0.46391753,\n",
       "       0.30927835, 0.55670103, 0.07216495, 0.90721649, 0.13402062,\n",
       "       0.        , 0.03092784, 0.36082474, 0.48453608, 0.31958763,\n",
       "       0.03092784, 0.40206186, 0.3814433 , 0.30927835, 0.58762887,\n",
       "       0.12371134, 0.96907216, 0.64948454, 0.72164948, 0.92783505,\n",
       "       0.50515464, 0.92783505, 0.42268041, 0.06185567, 0.25773196,\n",
       "       0.19587629, 0.86597938, 0.81443299, 0.74226804, 0.90721649,\n",
       "       0.25773196, 0.44329897, 0.01030928, 0.21649485, 0.80412371,\n",
       "       0.75257732, 0.11340206, 0.25773196, 0.81443299, 0.87628866,\n",
       "       0.45360825, 0.77319588, 0.34020619, 0.28865979, 0.11340206,\n",
       "       0.07216495, 0.73195876, 0.25773196, 0.86597938, 0.74226804,\n",
       "       0.8556701 , 0.18556701, 0.86597938, 0.7628866 , 0.73195876,\n",
       "       0.43298969, 0.13402062, 0.        , 0.90721649, 0.39175258])"
      ]
     },
     "execution_count": 35,
     "metadata": {},
     "output_type": "execute_result"
    }
   ],
   "source": [
    "(x-np.min(x))/(np.max(x)-np.min(x))"
   ]
  },
  {
   "cell_type": "code",
   "execution_count": 36,
   "metadata": {},
   "outputs": [],
   "source": [
    "X = np.random.randint(0, 100, (50, 2))"
   ]
  },
  {
   "cell_type": "code",
   "execution_count": 37,
   "metadata": {},
   "outputs": [
    {
     "data": {
      "text/plain": [
       "array([[47, 74],\n",
       "       [32,  3],\n",
       "       [18, 77],\n",
       "       [57, 23],\n",
       "       [19, 11],\n",
       "       [64, 54],\n",
       "       [49, 59],\n",
       "       [88, 99],\n",
       "       [64, 85],\n",
       "       [90, 38]])"
      ]
     },
     "execution_count": 37,
     "metadata": {},
     "output_type": "execute_result"
    }
   ],
   "source": [
    "X[:10,:]"
   ]
  },
  {
   "cell_type": "code",
   "execution_count": 42,
   "metadata": {},
   "outputs": [
    {
     "data": {
      "text/plain": [
       "array([47., 32., 18., 57., 19., 64., 49., 88., 64., 90., 81., 68., 13.,\n",
       "       30., 42., 35., 87., 17., 74., 81., 84., 63., 99., 61., 10., 32.,\n",
       "       93.,  3., 22., 63., 26., 57.,  6., 94., 53., 74., 83., 18., 24.,\n",
       "       64., 89., 88., 99., 85., 88., 25., 59., 52., 44., 10.])"
      ]
     },
     "execution_count": 42,
     "metadata": {},
     "output_type": "execute_result"
    }
   ],
   "source": [
    "X = np.array(X, dtype=float)\n",
    "X[:10,:]"
   ]
  },
  {
   "cell_type": "code",
   "execution_count": 44,
   "metadata": {},
   "outputs": [],
   "source": [
    "X[:,0] = (X[:,0]-np.min(X[:,0])) / (np.max(X[:,0])-np.min(X[:,0]))"
   ]
  },
  {
   "cell_type": "code",
   "execution_count": 49,
   "metadata": {},
   "outputs": [
    {
     "data": {
      "text/plain": [
       "array([[0.45833333, 0.74489796],\n",
       "       [0.30208333, 0.02040816],\n",
       "       [0.15625   , 0.7755102 ],\n",
       "       [0.5625    , 0.2244898 ],\n",
       "       [0.16666667, 0.10204082],\n",
       "       [0.63541667, 0.54081633],\n",
       "       [0.47916667, 0.59183673],\n",
       "       [0.88541667, 1.        ],\n",
       "       [0.63541667, 0.85714286],\n",
       "       [0.90625   , 0.37755102]])"
      ]
     },
     "execution_count": 49,
     "metadata": {},
     "output_type": "execute_result"
    }
   ],
   "source": [
    "X[:,1] = (X[:,1]-np.min(X[:,1])) / (np.max(X[:,1])-np.min(X[:,1]))\n",
    "X[:10, :]"
   ]
  },
  {
   "cell_type": "code",
   "execution_count": 51,
   "metadata": {},
   "outputs": [
    {
     "data": {
      "image/png": "[encoded data removed]",
      "text/plain": [
       "<Figure size 432x288 with 1 Axes>"
      ]
     },
     "metadata": {
      "needs_background": "light"
     },
     "output_type": "display_data"
    }
   ],
   "source": [
    "plt.scatter(X[:,0], X[:,1])\n",
    "plt.show()"
   ]
  },
  {
   "cell_type": "code",
   "execution_count": 52,
   "metadata": {},
   "outputs": [
    {
     "data": {
      "text/plain": [
       "0.53625"
      ]
     },
     "execution_count": 52,
     "metadata": {},
     "output_type": "execute_result"
    }
   ],
   "source": [
    "np.mean(X[:,0])"
   ]
  },
  {
   "cell_type": "code",
   "execution_count": 53,
   "metadata": {},
   "outputs": [
    {
     "data": {
      "text/plain": [
       "0.29962534475945496"
      ]
     },
     "execution_count": 53,
     "metadata": {},
     "output_type": "execute_result"
    }
   ],
   "source": [
    "np.std(X[:,0])"
   ]
  },
  {
   "cell_type": "code",
   "execution_count": 54,
   "metadata": {},
   "outputs": [
    {
     "data": {
      "text/plain": [
       "0.4559183673469388"
      ]
     },
     "execution_count": 54,
     "metadata": {},
     "output_type": "execute_result"
    }
   ],
   "source": [
    "np.mean(X[:,1])"
   ]
  },
  {
   "cell_type": "code",
   "execution_count": 55,
   "metadata": {},
   "outputs": [
    {
     "data": {
      "text/plain": [
       "0.34308447273992937"
      ]
     },
     "execution_count": 55,
     "metadata": {},
     "output_type": "execute_result"
    }
   ],
   "source": [
    "np.std(X[:,1])"
   ]
  },
  {
   "cell_type": "markdown",
   "metadata": {},
   "source": [
    "### 均值方差归一化"
   ]
  },
  {
   "cell_type": "code",
   "execution_count": 56,
   "metadata": {},
   "outputs": [],
   "source": [
    "X2 = np.random.randint(0, 100, (50, 2))"
   ]
  },
  {
   "cell_type": "code",
   "execution_count": 57,
   "metadata": {},
   "outputs": [],
   "source": [
    "X2 = np.array(X2, dtype=float)"
   ]
  },
  {
   "cell_type": "code",
   "execution_count": 58,
   "metadata": {},
   "outputs": [],
   "source": [
    "X2[:,0] = (X2[:, 0] - np.mean(X2[:,0])) / np.std(X2[:,0])\n",
    "X2[:,1] = (X2[:, 1] - np.mean(X2[:,1])) / np.std(X2[:,1])"
   ]
  },
  {
   "cell_type": "code",
   "execution_count": 62,
   "metadata": {},
   "outputs": [
    {
     "data": {
      "image/png": "[encoded data removed]",
      "text/plain": [
       "<Figure size 432x288 with 1 Axes>"
      ]
     },
     "metadata": {
      "needs_background": "light"
     },
     "output_type": "display_data"
    }
   ],
   "source": [
    "plt.scatter(X2[:,0], X2[:,1])\n",
    "plt.show()"
   ]
  },
  {
   "cell_type": "code",
   "execution_count": 64,
   "metadata": {},
   "outputs": [
    {
     "data": {
      "text/plain": [
       "-9.520162436160718e-17"
      ]
     },
     "execution_count": 64,
     "metadata": {},
     "output_type": "execute_result"
    }
   ],
   "source": [
    "np.mean(X2[:,0])"
   ]
  },
  {
   "cell_type": "code",
   "execution_count": 65,
   "metadata": {},
   "outputs": [
    {
     "data": {
      "text/plain": [
       "1.0"
      ]
     },
     "execution_count": 65,
     "metadata": {},
     "output_type": "execute_result"
    }
   ],
   "source": [
    "np.std(X2[:,0])"
   ]
  },
  {
   "cell_type": "code",
   "execution_count": 66,
   "metadata": {},
   "outputs": [
    {
     "data": {
      "text/plain": [
       "50.06"
      ]
     },
     "execution_count": 66,
     "metadata": {},
     "output_type": "execute_result"
    }
   ],
   "source": [
    "np.mean(X2[:,1])"
   ]
  },
  {
   "cell_type": "code",
   "execution_count": 67,
   "metadata": {},
   "outputs": [
    {
     "data": {
      "text/plain": [
       "29.071917721402556"
      ]
     },
     "execution_count": 67,
     "metadata": {},
     "output_type": "execute_result"
    }
   ],
   "source": [
    "np.std(X2[:,1])"
   ]
  },
  {
   "cell_type": "code",
   "execution_count": null,
   "metadata": {},
   "outputs": [],
   "source": []
  }
 ],
 "metadata": {
  "interpreter": {
   "hash": "aee8b7b246df8f9039afb4144a1f6fd8d2ca17a180786b69acc140d282b71a49"
  },
  "kernelspec": {
   "display_name": "Python 3.10.1 64-bit",
   "language": "python",
   "name": "python3"
  },
  "language_info": {
   "codemirror_mode": {
    "name": "ipython",
    "version": 3
   },
   "file_extension": ".py",
   "mimetype": "text/x-python",
   "name": "python",
   "nbconvert_exporter": "python",
   "pygments_lexer": "ipython3",
   "version": "3.10.1"
  },
  "orig_nbformat": 4
 },
 "nbformat": 4,
 "nbformat_minor": 2
}
